{
 "cells": [
  {
   "cell_type": "code",
   "execution_count": 66,
   "metadata": {},
   "outputs": [],
   "source": [
    "# selenium 4\n",
    "from selenium import webdriver\n",
    "from selenium.webdriver.common.by import By\n",
    "from selenium.webdriver.support import expected_conditions as EC\n",
    "from selenium.webdriver.chrome.service import Service as ChromeService\n",
    "from webdriver_manager.chrome import ChromeDriverManager\n",
    "from selenium.webdriver.common.keys import Keys\n",
    "\n",
    "driver = webdriver.Chrome(service=ChromeService(ChromeDriverManager().install()))\n",
    "\n",
    "driver.get(\"https://www.ne12.bradesconetempresa.b.br/ibpjlogin/login.jsf\")\n",
    "\n",
    "driver.find_element(By.ID,'identificationForm:txtUsuario').clear()\n",
    "driver.find_element(By.ID,'identificationForm:txtUsuario').send_keys('MRFP00071')\n",
    "driver.find_element(By.ID,'identificationForm:txtSenha').send_keys('Kqs3470.', Keys.ENTER)\n"
   ]
  },
  {
   "cell_type": "code",
   "execution_count": 7,
   "metadata": {},
   "outputs": [],
   "source": [
    "driver.find_element(By.ID,'identificationForm:txtUsuario').clear()\n",
    "driver.find_element(By.ID,'identificationForm:txtUsuario').send_keys('MRFP00071')\n",
    "driver.find_element(By.ID,'identificationForm:txtSenha').send_keys('Kqs3470.', Keys.ENTER)\n",
    "\n"
   ]
  },
  {
   "cell_type": "markdown",
   "metadata": {},
   "source": [
    "#### Verificar o extrato"
   ]
  },
  {
   "cell_type": "code",
   "execution_count": 44,
   "metadata": {},
   "outputs": [],
   "source": [
    "# Aba saldo e extrato\n",
    "Aba_transf = driver.find_element(By.ID, \"_id74_0:_id76\")\n",
    "Aba_transf.click()\n"
   ]
  },
  {
   "cell_type": "code",
   "execution_count": 12,
   "metadata": {},
   "outputs": [],
   "source": [
    "# Extrato (Últimos Lançamentos)\n",
    "# Clicar pelo texto dentro do link\n",
    "driver.find_element(By.PARTIAL_LINK_TEXT,'Extrato (Últimos Lançamentos)').click()"
   ]
  },
  {
   "cell_type": "markdown",
   "metadata": {},
   "source": [
    "#### Transferências<br>\n",
    "##### A Transferencia estava em um iframe, precisei percorrer uma lista de iframes ulizando o try, except e printar o iframe correto\n"
   ]
  },
  {
   "cell_type": "code",
   "execution_count": null,
   "metadata": {},
   "outputs": [],
   "source": [
    "driver.find_element(By.ID,'_id74_3:_id75').click()"
   ]
  },
  {
   "cell_type": "code",
   "execution_count": 69,
   "metadata": {},
   "outputs": [],
   "source": [
    "driver.find_element(By.PARTIAL_LINK_TEXT,'Comprovantes (2ª Via)').click()\n",
    "driver.find_element(By.PARTIAL_LINK_TEXT,'Comprovantes (2ª Via)').send_keys(Keys.PAGE_UP)"
   ]
  },
  {
   "cell_type": "code",
   "execution_count": null,
   "metadata": {},
   "outputs": [
    {
     "data": {
      "text/plain": [
       "<selenium.webdriver.remote.webelement.WebElement (session=\"cd5ecee275594e270c235e694baaa61d\", element=\"f.753243573C1B3B2A4970C297D2D9DFF7.d.AEFB9F7D6551FE4723A2E0D198F395D3.e.1006\")>"
      ]
     },
     "metadata": {},
     "output_type": "display_data"
    }
   ],
   "source": [
    "iframes = driver.find_elements(By.TAG_NAME, 'iframe')\n",
    "display(iframes)"
   ]
  },
  {
   "cell_type": "code",
   "execution_count": 107,
   "metadata": {},
   "outputs": [
    {
     "name": "stdout",
     "output_type": "stream",
     "text": [
      "Não encontrado\n",
      "Não encontrado\n",
      "Não encontrado\n",
      "<selenium.webdriver.remote.webelement.WebElement (session=\"cd5ecee275594e270c235e694baaa61d\", element=\"f.753243573C1B3B2A4970C297D2D9DFF7.d.AEFB9F7D6551FE4723A2E0D198F395D3.e.115\")>\n",
      "Não encontrado\n",
      "Não encontrado\n",
      "Não encontrado\n"
     ]
    }
   ],
   "source": [
    "for iframe in iframes:\n",
    "   \n",
    "    try:\n",
    "        driver.switch_to.frame(iframe)\n",
    "        driver.find_element(By.XPATH,'//*[@id=\"frm:_id104\"]').click()\n",
    "        print(iframe)\n",
    "        driver.switch_to.default_content()\n",
    "    except:\n",
    "        driver.switch_to.default_content()\n",
    "        print('Não encontrado')\n"
   ]
  },
  {
   "cell_type": "code",
   "execution_count": null,
   "metadata": {},
   "outputs": [],
   "source": [
    "# i = driver.find_element(By.TAG_NAME, 'iframe')\n",
    "# driver.switch_to.frame(i[3])\n",
    "# b = driver.find_element(By.XPATH,'//*[@id=\"frm:_id104\"]')"
   ]
  },
  {
   "cell_type": "code",
   "execution_count": 115,
   "metadata": {},
   "outputs": [],
   "source": [
    "# Retorna para a janela principal (fora do iframe)driver.switch_to.default_content()\n",
    "driver.switch_to.default_content()"
   ]
  },
  {
   "cell_type": "markdown",
   "metadata": {},
   "source": [
    "##### Selecionar a operação pelo select"
   ]
  },
  {
   "cell_type": "markdown",
   "metadata": {},
   "source": [
    "Com o select"
   ]
  },
  {
   "cell_type": "code",
   "execution_count": null,
   "metadata": {},
   "outputs": [],
   "source": [
    "from selenium.webdriver.support.select import Select\n",
    "# percorre os frames até acgar o correto\n",
    "for iframe in iframes:\n",
    "   \n",
    "    try:\n",
    "        driver.switch_to.frame(iframe)\n",
    "        # Clicar no select\n",
    "        elemento = driver.find_element(By.XPATH,'//*[@id=\"cmbOperacoes\"]')\n",
    "        elemento_select = Select(elemento)\n",
    "        # Selecionar o elemento pelo select\n",
    "        elemento_select.select_by_visible_text('Pag-For / Multipag')\n",
    "        # Retorna para a janela principal (fora do iframe)\n",
    "        driver.switch_to.default_content()\n",
    "        print(iframe)\n",
    "    except:\n",
    "        # Retorna para a janela principal (fora do iframe)\n",
    "        driver.switch_to.default_content()\n",
    "        print('Não encontrado')\n"
   ]
  },
  {
   "cell_type": "code",
   "execution_count": null,
   "metadata": {},
   "outputs": [],
   "source": [
    "data = driver.find_element(By.XPATH,'//*[@id=\"frm:datasPeriodoSemMes2_beginDia\"]').click()\n",
    "data.send_keys(23_12_2024_12_01_2025)"
   ]
  },
  {
   "cell_type": "code",
   "execution_count": 118,
   "metadata": {},
   "outputs": [],
   "source": [
    "# Fechar o webdriver\n",
    "driver.quit()"
   ]
  },
  {
   "cell_type": "code",
   "execution_count": 117,
   "metadata": {},
   "outputs": [
    {
     "data": {
      "text/plain": [
       "1011"
      ]
     },
     "execution_count": 117,
     "metadata": {},
     "output_type": "execute_result"
    }
   ],
   "source": [
    "nota = 10_11\n",
    "nota"
   ]
  }
 ],
 "metadata": {
  "kernelspec": {
   "display_name": "env",
   "language": "python",
   "name": "python3"
  },
  "language_info": {
   "codemirror_mode": {
    "name": "ipython",
    "version": 3
   },
   "file_extension": ".py",
   "mimetype": "text/x-python",
   "name": "python",
   "nbconvert_exporter": "python",
   "pygments_lexer": "ipython3",
   "version": "3.12.4"
  }
 },
 "nbformat": 4,
 "nbformat_minor": 2
}
