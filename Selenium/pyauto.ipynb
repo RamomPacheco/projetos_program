{
 "cells": [
  {
   "cell_type": "markdown",
   "metadata": {},
   "source": [
    "### projeto bank"
   ]
  },
  {
   "cell_type": "code",
   "execution_count": null,
   "metadata": {},
   "outputs": [],
   "source": [
    "import pyautogui\n",
    "from time import sleep"
   ]
  },
  {
   "cell_type": "code",
   "execution_count": 19,
   "metadata": {},
   "outputs": [],
   "source": [
    "# Transferência\n",
    "pyautogui.click(x=894, y=169)\n",
    "\n",
    "# Escolher bank\n",
    "pyautogui.click(x=788, y=354)\n",
    "\n",
    "# Escolher conta na caixa de seleção\n",
    "pyautogui.click(x=1102, y=411)\n",
    "pyautogui.click(x=982, y=500)\n",
    "# Dados de Transferência\n",
    "\n",
    "## Agencia\n",
    "pyautogui.click(x=865, y=593)\n",
    "sleep(1)\n",
    "pyautogui.write('0001')\n",
    "\n",
    "## Conta\n",
    "pyautogui.click(x=877, y=626)\n",
    "pyautogui.write('00000000000000000000')\n",
    "\n",
    "## Valor\n",
    "pyautogui.click(x=894, y=655)\n",
    "pyautogui.write('1000')\n",
    "\n",
    "## Data Debito\n",
    "### Hoje\n",
    "pyautogui.click(x=847, y=677)\n",
    "\n",
    "### Escolher data\n",
    "pyautogui.click(x=841, y=749)\n",
    "\n",
    "### Colocar a data\n",
    "pyautogui.click(x=953, y=751)\n",
    "\n",
    "### Escolher data\n",
    "pyautogui.click(x=841, y=749)\n",
    "\n",
    "#### Colocar a data\n",
    "pyautogui.click(x=953, y=751)\n",
    "pyautogui.write('10/10/2021')\n",
    "\n",
    "#### Descrição da transferência\n",
    "pyautogui.click(x=971, y=715)\n",
    "pyautogui.write('Transferencia')\n",
    "\n",
    "# Incluir no lote\n",
    "pyautogui.click(x=1385, y=771)"
   ]
  },
  {
   "cell_type": "code",
   "execution_count": 33,
   "metadata": {},
   "outputs": [
    {
     "name": "stdout",
     "output_type": "stream",
     "text": [
      "Point(x=1385, y=771)\n"
     ]
    }
   ],
   "source": [
    "sleep(1)\n",
    "print(pyautogui.position())\n"
   ]
  }
 ],
 "metadata": {
  "kernelspec": {
   "display_name": "Python 3",
   "language": "python",
   "name": "python3"
  },
  "language_info": {
   "codemirror_mode": {
    "name": "ipython",
    "version": 3
   },
   "file_extension": ".py",
   "mimetype": "text/x-python",
   "name": "python",
   "nbconvert_exporter": "python",
   "pygments_lexer": "ipython3",
   "version": "3.11.9"
  }
 },
 "nbformat": 4,
 "nbformat_minor": 2
}
