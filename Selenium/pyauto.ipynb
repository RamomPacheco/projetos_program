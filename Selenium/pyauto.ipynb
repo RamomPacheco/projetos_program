{
 "cells": [
  {
   "cell_type": "code",
   "execution_count": 5,
   "metadata": {},
   "outputs": [],
   "source": [
    "import pyautogui\n",
    "pyautogui.PAUSE = 1\n",
    "from time import sleep\n",
    "\n",
    "def click_imagem(imagem, click=1, img = None):\n",
    "    \n",
    "\n",
    "    \n",
    "    \"\"\"\n",
    "    >x, y, largura, altura = pyautogui.locateOnScreen('baixar.png')<\n",
    "    Função que localiza a imagem e clica nela tem dois parametros\n",
    "    Parametro 1:\n",
    "        Caminho da imagem\n",
    "    Parametro 2:\n",
    "        a opção de '0'nenhum clique, '1' por padrão um click,'2'dois clicks \"\"\"\n",
    "    while True:\n",
    "        porc = 0.8\n",
    "        sleep(1)\n",
    "        try:         \n",
    "            # Localizar imagem -> vai dar 4 informação, posição x,posiçãoy, largura, altura\n",
    "            x, y, largura, altura = pyautogui.locateOnScreen(imagem, confidence= porc)\n",
    "\n",
    "            # clicar no meio da imagem\n",
    "            if click == 1:\n",
    "                \n",
    "                pyautogui.click(x + largura/2, y + altura/2)\n",
    "                print(f'Encontrou a imagem {x}-{y}-{largura}-{altura}')\n",
    "                break\n",
    "            elif click == 2:\n",
    "                pyautogui.doubleClick(x + largura/2, y + altura/2)\n",
    "                print(f'Encontrou a imagem {x}-{y}-{largura}-{altura}')\n",
    "                break\n",
    "            elif click == 0:\n",
    "                pyautogui.moveTo(x + largura/2, y + altura/2)\n",
    "                print(f'Encontrou a imagem {x}-{y}-{largura}-{altura}')\n",
    "                break\n",
    "\n",
    "\n",
    "        except:\n",
    "                print('Aguardando imagem...')\n",
    "                sleep(1)   \n",
    "            \n",
    "        try:\n",
    "                         \n",
    "            print('procurando ...')\n",
    "                    \n",
    "            # Localizar imagem -> vai dar 4 informação, posição x,posiçãoy, largura, altura\n",
    "            x, y, largura, altura = pyautogui.locateOnScreen(img, confidence=porc)\n",
    "\n",
    "            # clicar no meio da imagem\n",
    "            if img:\n",
    "                print('segunda opção')\n",
    "                if click == 1:\n",
    "                    \n",
    "                    pyautogui.click(x + largura/2, y + altura/2)\n",
    "                    print(f'Encontrou a segunda imagem {x}-{y}-{largura}-{altura}')\n",
    "                    break\n",
    "                elif click == 2:\n",
    "                    pyautogui.doubleClick(x + largura/2, y + altura/2)\n",
    "                    print(f'Encontrou a segunda imagem {x}-{y}-{largura}-{altura}')\n",
    "                    break\n",
    "                elif click == 0:\n",
    "                    pyautogui.moveTo(x + largura/2, y + altura/2)\n",
    "                    print(f'Encontrou a segunda imagem {x}-{y}-{largura}-{altura}')\n",
    "\n",
    "                    break \n",
    "        except:\n",
    "                print('Aguardando imagem...')\n",
    "                sleep(1)  "
   ]
  },
  {
   "cell_type": "code",
   "execution_count": null,
   "metadata": {},
   "outputs": [],
   "source": [
    "# Pega as coordenadas da imagem\n",
    "pyautogui.screenshot('baixar.png')"
   ]
  },
  {
   "cell_type": "code",
   "execution_count": null,
   "metadata": {},
   "outputs": [],
   "source": [
    "\n"
   ]
  },
  {
   "cell_type": "code",
   "execution_count": 6,
   "metadata": {},
   "outputs": [],
   "source": [
    "# Transferencia\n",
    "pyautogui.click(x=894, y=169)"
   ]
  },
  {
   "cell_type": "code",
   "execution_count": 8,
   "metadata": {},
   "outputs": [],
   "source": [
    "# Escolher bank\n",
    "pyautogui.click(x=788, y=354)"
   ]
  },
  {
   "cell_type": "code",
   "execution_count": 12,
   "metadata": {},
   "outputs": [],
   "source": [
    "# Escolher conta caixa de seleção\n",
    "pyautogui.click(x=1102, y=411)\n",
    "pyautogui.click(x=982, y=500)\n"
   ]
  },
  {
   "cell_type": "code",
   "execution_count": 19,
   "metadata": {},
   "outputs": [],
   "source": [
    "# Dados de Transferência\n",
    "\n",
    "# Agencia\n",
    "pyautogui.click(x=865, y=593)\n",
    "sleep(1)\n",
    "pyautogui.write('0001')\n",
    "\n",
    "# Conta\n",
    "pyautogui.click(x=877, y=626)\n",
    "pyautogui.write('00000000000000000000')\n",
    "\n",
    "# Valor\n",
    "pyautogui.click(x=894, y=655)\n",
    "pyautogui.write('1000')\n",
    "\n",
    "# Data Debito\n",
    "## Hoje\n",
    "pyautogui.click(x=847, y=677)\n",
    "\n",
    "## Escolher data\n",
    "pyautogui.click(x=841, y=749)\n",
    "\n",
    "### Colocar a data\n",
    "pyautogui.click(x=953, y=751)\n",
    "\n",
    "## Escolher data\n",
    "pyautogui.click(x=841, y=749)\n",
    "\n",
    "### Colocar a data\n",
    "pyautogui.click(x=953, y=751)"
   ]
  },
  {
   "cell_type": "code",
   "execution_count": 30,
   "metadata": {},
   "outputs": [],
   "source": [
    "# Descrição da transferência\n",
    "pyautogui.click(x=971, y=715)"
   ]
  },
  {
   "cell_type": "code",
   "execution_count": 31,
   "metadata": {},
   "outputs": [
    {
     "name": "stdout",
     "output_type": "stream",
     "text": [
      "Point(x=971, y=715)\n"
     ]
    }
   ],
   "source": [
    "sleep(1)\n",
    "print(pyautogui.position())\n"
   ]
  },
  {
   "cell_type": "code",
   "execution_count": null,
   "metadata": {},
   "outputs": [],
   "source": []
  }
 ],
 "metadata": {
  "kernelspec": {
   "display_name": "Python 3",
   "language": "python",
   "name": "python3"
  },
  "language_info": {
   "codemirror_mode": {
    "name": "ipython",
    "version": 3
   },
   "file_extension": ".py",
   "mimetype": "text/x-python",
   "name": "python",
   "nbconvert_exporter": "python",
   "pygments_lexer": "ipython3",
   "version": "3.11.9"
  }
 },
 "nbformat": 4,
 "nbformat_minor": 2
}
